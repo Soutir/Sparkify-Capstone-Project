{
 "cells": [
  {
   "cell_type": "markdown",
   "metadata": {},
   "source": [
    "# Sparkify Project Workspace\n",
    "This workspace contains a tiny subset (128MB) of the full dataset available (12GB). Feel free to use this workspace to build your project, or to explore a smaller subset with Spark before deploying your cluster on the cloud. Instructions for setting up your Spark cluster is included in the last lesson of the Extracurricular Spark Course content.\n",
    "\n",
    "You can follow the steps below to guide your data analysis and model building portion of this project."
   ]
  },
  {
   "cell_type": "markdown",
   "metadata": {},
   "source": [
    "## Overview"
   ]
  },
  {
   "cell_type": "markdown",
   "metadata": {},
   "source": [
    "Sparkify is a fictitious music company which provides free subscription to customers for a certain months. Post that the customer needs to renew his/her subscription. One who doesn't renew subscription is defined as a churn. This project aims to identify potential churned customers and features that might lead to churn. The underlined customer dataset is huge (12GB), so we would be using a subset of this dataset and Spark Machine Learning Models are to be used deal with Big Data. Exploratory Analysis would be done to find fruitful insights. Feature Engineering is to be used to create new additional features. Machine Learning models like Gradient Boost Classifier, Logistic Regression, Support Vector Machine and Random Forest are to be used to predict churn. Accuracy and F1-Score are the two metrics to be referred to select the best model. "
   ]
  },
  {
   "cell_type": "code",
   "execution_count": 1,
   "metadata": {},
   "outputs": [],
   "source": [
    "# import libraries\n",
    "import pandas as pd\n",
    "import numpy as np\n",
    "from matplotlib import pyplot as plt\n",
    "%matplotlib inline\n",
    "import seaborn as sb\n",
    "import datetime\n",
    "\n",
    "from pyspark.sql import SparkSession\n",
    "from pyspark.sql.functions import udf\n",
    "\n",
    "from pyspark.sql import functions as sF\n",
    "from pyspark.sql.types import StringType\n",
    "from pyspark.sql.types import IntegerType\n",
    "from pyspark.sql import Window\n",
    "from pyspark.sql.functions import sum as Fsum\n",
    "from pyspark.sql import functions as f\n",
    "from pyspark.sql import types as sT\n",
    "from pyspark.sql.functions import avg, col, concat, desc, explode, lit, min, max, split, udf\n",
    "\n",
    "from pyspark.ml.classification import GBTClassifier\n",
    "from pyspark.ml.classification import LogisticRegression\n",
    "from pyspark.ml import Pipeline\n",
    "from pyspark.ml.tuning import CrossValidator, ParamGridBuilder\n",
    "from pyspark.ml.evaluation import BinaryClassificationEvaluator\n",
    "from pyspark.ml.evaluation import MulticlassClassificationEvaluator\n",
    "from pyspark.ml.feature import VectorAssembler, StandardScaler\n",
    "from pyspark.ml.classification import LinearSVC\n",
    "from pyspark.ml.classification import RandomForestClassifier\n",
    "from pyspark.mllib.evaluation import MulticlassMetrics\n",
    "from functools import reduce"
   ]
  },
  {
   "cell_type": "code",
   "execution_count": 2,
   "metadata": {},
   "outputs": [],
   "source": [
    "# create a Spark session\n",
    "spark = SparkSession.builder.appName(\"Sparkify\").getOrCreate()"
   ]
  },
  {
   "cell_type": "markdown",
   "metadata": {},
   "source": [
    "# Load and Clean Dataset\n",
    "In this workspace, the mini-dataset file is `mini_sparkify_event_data.json`. Load and clean the dataset, checking for invalid or missing data - for example, records without userids or sessionids. "
   ]
  },
  {
   "cell_type": "code",
   "execution_count": 89,
   "metadata": {},
   "outputs": [
    {
     "name": "stdout",
     "output_type": "stream",
     "text": [
      "root\n",
      " |-- artist: string (nullable = true)\n",
      " |-- auth: string (nullable = true)\n",
      " |-- firstName: string (nullable = true)\n",
      " |-- gender: string (nullable = true)\n",
      " |-- itemInSession: long (nullable = true)\n",
      " |-- lastName: string (nullable = true)\n",
      " |-- length: double (nullable = true)\n",
      " |-- level: string (nullable = true)\n",
      " |-- location: string (nullable = true)\n",
      " |-- method: string (nullable = true)\n",
      " |-- page: string (nullable = true)\n",
      " |-- registration: long (nullable = true)\n",
      " |-- sessionId: long (nullable = true)\n",
      " |-- song: string (nullable = true)\n",
      " |-- status: long (nullable = true)\n",
      " |-- ts: long (nullable = true)\n",
      " |-- userAgent: string (nullable = true)\n",
      " |-- userId: string (nullable = true)\n",
      "\n"
     ]
    }
   ],
   "source": [
    "data_path = 'mini_sparkify_event_data.json'\n",
    "df = spark.read.json(data_path)\n",
    "# See the frame schema\n",
    "df.printSchema()"
   ]
  },
  {
   "cell_type": "markdown",
   "metadata": {},
   "source": [
    "# Exploratory Data Analysis\n",
    "When you're working with the full dataset, perform EDA by loading a small subset of the data and doing basic manipulations within Spark. In this workspace, you are already provided a small subset of data you can explore."
   ]
  },
  {
   "cell_type": "code",
   "execution_count": 93,
   "metadata": {},
   "outputs": [
    {
     "data": {
      "text/plain": [
       "8346"
      ]
     },
     "execution_count": 93,
     "metadata": {},
     "output_type": "execute_result"
    }
   ],
   "source": [
    "#Checking for missing user id in Spark\n",
    "df.filter(df.userId == '').count()"
   ]
  },
  {
   "cell_type": "code",
   "execution_count": 94,
   "metadata": {},
   "outputs": [],
   "source": [
    "# Dropping the missing User's ID rows\n",
    "df = df.filter(df.userId != '')"
   ]
  },
  {
   "cell_type": "code",
   "execution_count": 95,
   "metadata": {},
   "outputs": [
    {
     "data": {
      "text/plain": [
       "0"
      ]
     },
     "execution_count": 95,
     "metadata": {},
     "output_type": "execute_result"
    }
   ],
   "source": [
    "df.filter(df.userId == '').count()"
   ]
  },
  {
   "cell_type": "markdown",
   "metadata": {},
   "source": [
    "### Define Churn\n",
    "\n",
    "Once you've done some preliminary analysis, create a column `Churn` to use as the label for your model. I suggest using the `Cancellation Confirmation` events to define your churn, which happen for both paid and free users. As a bonus task, you can also look into the `Downgrade` events.\n"
   ]
  },
  {
   "cell_type": "code",
   "execution_count": 98,
   "metadata": {},
   "outputs": [],
   "source": [
    "# Churn is a label for user who cancelled\n",
    "# Define a flag function\n",
    "flag_cancelation_event = udf(lambda x: 1 if x == \"Cancellation Confirmation\" else 0, IntegerType())\n",
    "# apply to the dataframe\n",
    "df = df.withColumn(\"churn\", flag_cancelation_event(\"page\"))\n",
    "#Define window bounds\n",
    "windowval = Window.partitionBy(\"userId\").rangeBetween(Window.unboundedPreceding, Window.unboundedFollowing)\n",
    "# Applying the window\n",
    "df = df.withColumn(\"churn\", Fsum(\"churn\").over(windowval))"
   ]
  },
  {
   "cell_type": "markdown",
   "metadata": {},
   "source": [
    "### Explore Data\n",
    "Once you've defined churn, perform some exploratory data analysis to observe the behavior for users who stayed vs users who churned. You can start by exploring aggregates on these two groups of users, observing how much of a specific action they experienced per a certain time unit or number of songs played."
   ]
  },
  {
   "cell_type": "code",
   "execution_count": 102,
   "metadata": {},
   "outputs": [
    {
     "name": "stdout",
     "output_type": "stream",
     "text": [
      "+-----+-----+\n",
      "|churn|count|\n",
      "+-----+-----+\n",
      "|    0|  173|\n",
      "|    1|   52|\n",
      "+-----+-----+\n",
      "\n"
     ]
    }
   ],
   "source": [
    "#Drop duplicates in userId in spark\n",
    "df.dropDuplicates(['userId']).groupby(['churn']).count().show()"
   ]
  },
  {
   "cell_type": "code",
   "execution_count": 104,
   "metadata": {},
   "outputs": [
    {
     "name": "stdout",
     "output_type": "stream",
     "text": [
      "+-----+------+-----+\n",
      "|churn|gender|count|\n",
      "+-----+------+-----+\n",
      "|    0|     F|   84|\n",
      "|    1|     M|   32|\n",
      "|    1|     F|   20|\n",
      "|    0|     M|   89|\n",
      "+-----+------+-----+\n",
      "\n"
     ]
    }
   ],
   "source": [
    "#Drop duplicates user status by gender in Spark\n",
    "df.dropDuplicates(['userId', 'gender']).groupby(['churn', 'gender']).count().show()"
   ]
  },
  {
   "cell_type": "code",
   "execution_count": 105,
   "metadata": {},
   "outputs": [
    {
     "data": {
      "image/png": "[encoded data removed]",
      "text/plain": [
       "<matplotlib.figure.Figure at 0x7f5b6ea54358>"
      ]
     },
     "metadata": {
      "needs_background": "light"
     },
     "output_type": "display_data"
    }
   ],
   "source": [
    "page_counts = pd.DataFrame(\n",
    "    df.groupBy('page').count().collect(), columns=[\"page\", \"page_count\"]\n",
    ").sort_values(\n",
    "    by='page_count', ascending=False\n",
    ").reset_index()\n",
    "\n",
    "# Instantiate plot\n",
    "fig, ax = plt.subplots(1, 1, figsize=(12, 8))\n",
    "\n",
    "# Plot bar chart\n",
    "base_color = sb.color_palette()[0]\n",
    "sb.barplot(data=page_counts, y='page', x='page_count', ax=ax, color=base_color)\n",
    "\n",
    "# Format chart\n",
    "ax.set_ylabel(\"Page\")\n",
    "ax.set_xlabel(\"Counts\")\n",
    "ax.set_title(\"Page Counts\")\n",
    "\n",
    "plt.tight_layout()\n",
    "plt.show()"
   ]
  },
  {
   "cell_type": "markdown",
   "metadata": {},
   "source": [
    "Cancel and cancelation confirmation page counts are very low, which shows the data is highly skewed."
   ]
  },
  {
   "cell_type": "code",
   "execution_count": 106,
   "metadata": {},
   "outputs": [
    {
     "data": {
      "image/png": "[encoded data removed]",
      "text/plain": [
       "<matplotlib.figure.Figure at 0x7f5b6ea540f0>"
      ]
     },
     "metadata": {
      "needs_background": "light"
     },
     "output_type": "display_data"
    }
   ],
   "source": [
    "# Checking for Subscripion status in Pandas DataFrame\n",
    "def plot_frequency(subset, group, labels, x_title=\"Number of users\", y_title=\"Subscription status\"):\n",
    "    ax = df_pandas.drop_duplicates(subset=subset).groupby(\n",
    "                                group)['userId'].count().plot(\n",
    "                                kind='barh', figsize=(8,5), color = base_color,\n",
    "                                title='Number of unique users per category');\n",
    "    ax.set_xlabel(x_title);\n",
    "    ax.set_yticklabels(labels, rotation=0)\n",
    "    ax.set_ylabel(y_title);\n",
    "\n",
    "# Test    \n",
    "plot_frequency(['userId'], ['churn'], ['Active', 'Cancelled'])"
   ]
  },
  {
   "cell_type": "markdown",
   "metadata": {},
   "source": [
    "Here we see that the number of active users are much higher as compared to the cancelled users."
   ]
  },
  {
   "cell_type": "markdown",
   "metadata": {},
   "source": [
    "Let's further deep-dive into this. Is there any distinction between active and cancelled users by gender?"
   ]
  },
  {
   "cell_type": "code",
   "execution_count": 107,
   "metadata": {},
   "outputs": [
    {
     "data": {
      "image/png": "[encoded data removed]",
      "text/plain": [
       "<matplotlib.figure.Figure at 0x7f5b7acc0e10>"
      ]
     },
     "metadata": {
      "needs_background": "light"
     },
     "output_type": "display_data"
    }
   ],
   "source": [
    "plot_frequency(['userId', 'gender'], \n",
    "               ['gender', 'churn'], \n",
    "               ['Active-Female', 'Cancelled-Female', 'Active-Male', 'Cancelled-Male'])"
   ]
  },
  {
   "cell_type": "markdown",
   "metadata": {},
   "source": [
    "We see that Male users are more active than female users. Even the cancelation rate of males are higher as compared to females."
   ]
  },
  {
   "cell_type": "markdown",
   "metadata": {},
   "source": [
    "Does Paid users have more cancellation as compared to free?"
   ]
  },
  {
   "cell_type": "code",
   "execution_count": 108,
   "metadata": {},
   "outputs": [
    {
     "data": {
      "image/png": "[encoded data removed]",
      "text/plain": [
       "<matplotlib.figure.Figure at 0x7f5b66fb3eb8>"
      ]
     },
     "metadata": {
      "needs_background": "light"
     },
     "output_type": "display_data"
    }
   ],
   "source": [
    "plot_frequency(['userId', 'level'], \n",
    "               ['level', 'churn'], \n",
    "               ['Active-Free', 'Cancelled-Free', 'Active-Paid', 'Cancelled-Paid'])"
   ]
  },
  {
   "cell_type": "markdown",
   "metadata": {},
   "source": [
    "The above plot shows that Free users remain more active than that of Paid, as well as they Cancel more than that of Paid."
   ]
  },
  {
   "cell_type": "markdown",
   "metadata": {},
   "source": [
    "# Feature Engineering\n",
    "Once you've familiarized yourself with the data, build out the features you find promising to train your model on. To work with the full dataset, you can follow the following steps.\n",
    "- Write a script to extract the necessary features from the smaller subset of data\n",
    "- Ensure that your script is scalable, using the best practices discussed in Lesson 3\n",
    "- Try your script on the full data set, debugging your script if necessary\n",
    "\n",
    "If you are working in the classroom workspace, you can just extract features based on the small subset of data contained here. Be sure to transfer over this work to the larger dataset when you work on your Spark cluster."
   ]
  },
  {
   "cell_type": "markdown",
   "metadata": {},
   "source": [
    "In this section some more additional features needs to be created. Such as\n",
    "1. Numeric Features: Average file length per session, Session duration, Session count, the total subscription days, number of thumbs-up, number of thumbs-down, number of friend invitations, number of listened-to files per session.\n",
    "2. Categorical features: Gender and subscription level.    "
   ]
  },
  {
   "cell_type": "markdown",
   "metadata": {},
   "source": [
    "## Time Analysis"
   ]
  },
  {
   "cell_type": "code",
   "execution_count": 109,
   "metadata": {},
   "outputs": [],
   "source": [
    "# Convert timestamp\n",
    "to_time_string = f.udf(lambda x: datetime.datetime.fromtimestamp(x / 1000.0).strftime(\"%Y-%m-%d %H:%M:%S\"))\n",
    "df = df.withColumn('timestamp', f.to_timestamp(to_time_string(df['ts'])))\n",
    "\n",
    "# Roll up to datestamp\n",
    "df = df.withColumn('datestamp', df['timestamp'].cast('date'))"
   ]
  },
  {
   "cell_type": "code",
   "execution_count": 110,
   "metadata": {},
   "outputs": [],
   "source": [
    "# Order dataframe by userId and timestamp\n",
    "df = df.orderBy(\"userId\", \"ts\")\n",
    "\n",
    "# Function to convert milliseconds to days\n",
    "days = lambda x: x * (1000 * 60 * 60 * 24)\n",
    "\n",
    "# Flag cancellation within the next 3 days\n",
    "churn_window = Window.partitionBy(df['userId']).orderBy(df['ts']).rangeBetween(0, days(3))\n",
    "\n",
    "df = df.withColumn(\n",
    "    \"impending_churn\", f.max(f.when(df.page == \"Cancellation Confirmation\", 1).otherwise(0)).over(churn_window)\n",
    ")"
   ]
  },
  {
   "cell_type": "code",
   "execution_count": 111,
   "metadata": {},
   "outputs": [],
   "source": [
    "# Create hour / day / month / year fields\n",
    "df = df.withColumn(\"hour\", f.hour(\"timestamp\"))\n",
    "df = df.withColumn(\"day\", f.dayofmonth(\"timestamp\"))\n",
    "df = df.withColumn(\"month\", f.month(\"timestamp\"))\n",
    "df = df.withColumn(\"year\", f.year(\"timestamp\"))\n",
    "\n",
    "def days_since_reg(x, y):\n",
    "    \"\"\"\n",
    "    Retrieve rounded number of days since registration\n",
    "    \"\"\"\n",
    "    sec_diff = f.when(x > y, x - y).otherwise(0)    \n",
    "    return f.round(sec_diff / (1000 * 60 * 60 * 24))\n",
    "\n",
    "\n",
    "# Days since registration\n",
    "df = df.withColumn(\n",
    "    'days_since_reg', days_since_reg(df.ts, df.registration)\n",
    ")\n",
    "\n",
    "# Convert gender to binary column\n",
    "df = df.withColumn('gender_male', f.when(df.gender == 'M', 1).otherwise(0))\n",
    "\n",
    "# Convert subscription level to binary column\n",
    "df = df.withColumn('paid_level', f.when(df.level == 'paid', 1).otherwise(0))\n",
    "\n",
    "# List of unique page entries\n",
    "pages = [row.page for row in df.select(df.page).dropDuplicates().collect()]\n",
    "\n",
    "for page in pages:\n",
    "    \n",
    "    # Flag matching pages\n",
    "    page_col = page.replace(\" \", \"\")+\"_page\"\n",
    "    df = df.withColumn(page_col, f.when(df.page == page, 1).otherwise(0))\n",
    "    \n",
    "    # for 1, 7, and 30 day intervals...\n",
    "    for i in [1, 7, 30]:\n",
    "                \n",
    "        # Rolling window funciton for i days\n",
    "        w = (Window().partitionBy(df['userId']).orderBy(df['ts']).rangeBetween(-days(i), 0))\n",
    "\n",
    "        # Create column counting sum of page events in rolling window\n",
    "        window_col = page.replace(\" \", \"\") + \"_last{}d\".format(i)\n",
    "        df = df.withColumn(window_col, f.sum(page_col).over(w))"
   ]
  },
  {
   "cell_type": "markdown",
   "metadata": {},
   "source": [
    "### Create a dataframe for churn users"
   ]
  },
  {
   "cell_type": "code",
   "execution_count": 112,
   "metadata": {},
   "outputs": [
    {
     "name": "stdout",
     "output_type": "stream",
     "text": [
      "+------+-----+\n",
      "|userId|churn|\n",
      "+------+-----+\n",
      "|   149|    0|\n",
      "|    55|    0|\n",
      "|   120|    0|\n",
      "|   126|    0|\n",
      "|   127|    0|\n",
      "|200010|    0|\n",
      "|   106|    1|\n",
      "|100011|    1|\n",
      "|   146|    0|\n",
      "|    38|    0|\n",
      "+------+-----+\n",
      "only showing top 10 rows\n",
      "\n"
     ]
    }
   ],
   "source": [
    "churn_users = df.select('userId', 'churn').dropDuplicates()\n",
    "\n",
    "# check\n",
    "churn_users.show(10)"
   ]
  },
  {
   "cell_type": "markdown",
   "metadata": {},
   "source": [
    "### Creating dummy variable for gender"
   ]
  },
  {
   "cell_type": "code",
   "execution_count": 113,
   "metadata": {},
   "outputs": [
    {
     "name": "stdout",
     "output_type": "stream",
     "text": [
      "root\n",
      " |-- userId: string (nullable = true)\n",
      " |-- gender: integer (nullable = true)\n",
      "\n",
      "+------+------+\n",
      "|userId|gender|\n",
      "+------+------+\n",
      "|    44|     0|\n",
      "|    46|     0|\n",
      "|    41|     0|\n",
      "+------+------+\n",
      "only showing top 3 rows\n",
      "\n",
      "None None\n"
     ]
    }
   ],
   "source": [
    "def create_dummy_df (col, dictionary):\n",
    "    '''\n",
    "    Create a dataframe to map a variable\n",
    "    col: the column name\n",
    "    dictionary: the mapping of from->to numeric values\n",
    "    return a dataframe of 2 columns\n",
    "    '''\n",
    "    # To map M and F to numeric values, we first should map to string numbers (to avoid spark error)\n",
    "    col_df = df.select('userId', col).dropDuplicates().replace(dictionary, subset=col)\n",
    "    # Then convert the result to numeric value\n",
    "    col_df = col_df.select('userId', col_df[col].cast('int'))\n",
    "    # Check\n",
    "    print(col_df.printSchema(), col_df.show(3))\n",
    "    return col_df\n",
    "\n",
    "\n",
    "gender_df = create_dummy_df('gender', {'M':'1', 'F':'0'})"
   ]
  },
  {
   "cell_type": "markdown",
   "metadata": {},
   "source": [
    "### Creating dummy variable for Subscription level"
   ]
  },
  {
   "cell_type": "code",
   "execution_count": 114,
   "metadata": {},
   "outputs": [
    {
     "name": "stdout",
     "output_type": "stream",
     "text": [
      "root\n",
      " |-- userId: string (nullable = true)\n",
      " |-- level: integer (nullable = true)\n",
      "\n",
      "+------+-----+\n",
      "|userId|level|\n",
      "+------+-----+\n",
      "|100021|    0|\n",
      "|200021|    0|\n",
      "|200001|    0|\n",
      "+------+-----+\n",
      "only showing top 3 rows\n",
      "\n",
      "None None\n"
     ]
    }
   ],
   "source": [
    "level_df = create_dummy_df('level', {'paid':'1', 'free':'0'})"
   ]
  },
  {
   "cell_type": "markdown",
   "metadata": {},
   "source": [
    "### Calculating Song length"
   ]
  },
  {
   "cell_type": "code",
   "execution_count": 115,
   "metadata": {},
   "outputs": [
    {
     "data": {
      "text/html": [
       "<div>\n",
       "<style scoped>\n",
       "    .dataframe tbody tr th:only-of-type {\n",
       "        vertical-align: middle;\n",
       "    }\n",
       "\n",
       "    .dataframe tbody tr th {\n",
       "        vertical-align: top;\n",
       "    }\n",
       "\n",
       "    .dataframe thead th {\n",
       "        text-align: right;\n",
       "    }\n",
       "</style>\n",
       "<table border=\"1\" class=\"dataframe\">\n",
       "  <thead>\n",
       "    <tr style=\"text-align: right;\">\n",
       "      <th></th>\n",
       "      <th>userId</th>\n",
       "      <th>mean_hours</th>\n",
       "      <th>stdev_hours</th>\n",
       "    </tr>\n",
       "  </thead>\n",
       "  <tbody>\n",
       "    <tr>\n",
       "      <th>0</th>\n",
       "      <td>100010</td>\n",
       "      <td>2.656385</td>\n",
       "      <td>1.594089</td>\n",
       "    </tr>\n",
       "    <tr>\n",
       "      <th>1</th>\n",
       "      <td>200002</td>\n",
       "      <td>4.352263</td>\n",
       "      <td>3.481087</td>\n",
       "    </tr>\n",
       "    <tr>\n",
       "      <th>2</th>\n",
       "      <td>125</td>\n",
       "      <td>0.580309</td>\n",
       "      <td>0.000000</td>\n",
       "    </tr>\n",
       "    <tr>\n",
       "      <th>3</th>\n",
       "      <td>51</td>\n",
       "      <td>14.535440</td>\n",
       "      <td>11.600663</td>\n",
       "    </tr>\n",
       "    <tr>\n",
       "      <th>4</th>\n",
       "      <td>124</td>\n",
       "      <td>10.042779</td>\n",
       "      <td>9.370878</td>\n",
       "    </tr>\n",
       "    <tr>\n",
       "      <th>5</th>\n",
       "      <td>7</td>\n",
       "      <td>1.509289</td>\n",
       "      <td>1.737257</td>\n",
       "    </tr>\n",
       "    <tr>\n",
       "      <th>6</th>\n",
       "      <td>54</td>\n",
       "      <td>5.645595</td>\n",
       "      <td>6.724164</td>\n",
       "    </tr>\n",
       "    <tr>\n",
       "      <th>7</th>\n",
       "      <td>15</td>\n",
       "      <td>9.470389</td>\n",
       "      <td>6.159368</td>\n",
       "    </tr>\n",
       "    <tr>\n",
       "      <th>8</th>\n",
       "      <td>155</td>\n",
       "      <td>9.202745</td>\n",
       "      <td>6.528672</td>\n",
       "    </tr>\n",
       "    <tr>\n",
       "      <th>9</th>\n",
       "      <td>100014</td>\n",
       "      <td>3.134420</td>\n",
       "      <td>1.754365</td>\n",
       "    </tr>\n",
       "  </tbody>\n",
       "</table>\n",
       "</div>"
      ],
      "text/plain": [
       "   userId  mean_hours  stdev_hours\n",
       "0  100010    2.656385     1.594089\n",
       "1  200002    4.352263     3.481087\n",
       "2     125    0.580309     0.000000\n",
       "3      51   14.535440    11.600663\n",
       "4     124   10.042779     9.370878\n",
       "5       7    1.509289     1.737257\n",
       "6      54    5.645595     6.724164\n",
       "7      15    9.470389     6.159368\n",
       "8     155    9.202745     6.528672\n",
       "9  100014    3.134420     1.754365"
      ]
     },
     "execution_count": 115,
     "metadata": {},
     "output_type": "execute_result"
    }
   ],
   "source": [
    "song_length = df.filter(df.page=='NextSong').select('userId', 'sessionId', 'length')\n",
    "song_length = song_length.withColumn('hours', (song_length.length / 3600))\n",
    "song_length = song_length.groupBy('userId', 'sessionId').sum('hours')\n",
    "song_length = song_length.groupBy('userId').agg(\n",
    "                        sF.avg('sum(hours)').alias('mean_hours'), \n",
    "                        sF.stddev('sum(hours)').alias('stdev_hours')).na.fill(0)\n",
    "song_length.toPandas().head(10)"
   ]
  },
  {
   "cell_type": "markdown",
   "metadata": {},
   "source": [
    "### Calculating the Number of ThumbsUp, ThumbsDown, InviteFriends, downgrades etc."
   ]
  },
  {
   "cell_type": "code",
   "execution_count": 116,
   "metadata": {},
   "outputs": [
    {
     "data": {
      "text/html": [
       "<div>\n",
       "<style scoped>\n",
       "    .dataframe tbody tr th:only-of-type {\n",
       "        vertical-align: middle;\n",
       "    }\n",
       "\n",
       "    .dataframe tbody tr th {\n",
       "        vertical-align: top;\n",
       "    }\n",
       "\n",
       "    .dataframe thead th {\n",
       "        text-align: right;\n",
       "    }\n",
       "</style>\n",
       "<table border=\"1\" class=\"dataframe\">\n",
       "  <thead>\n",
       "    <tr style=\"text-align: right;\">\n",
       "      <th></th>\n",
       "      <th>userId</th>\n",
       "      <th>About</th>\n",
       "      <th>Add Friend</th>\n",
       "      <th>Add to Playlist</th>\n",
       "      <th>Downgrade</th>\n",
       "      <th>Error</th>\n",
       "      <th>Help</th>\n",
       "      <th>Home</th>\n",
       "      <th>Logout</th>\n",
       "      <th>NextSong</th>\n",
       "      <th>Roll Advert</th>\n",
       "      <th>Save Settings</th>\n",
       "      <th>Settings</th>\n",
       "      <th>Submit Downgrade</th>\n",
       "      <th>Submit Upgrade</th>\n",
       "      <th>Thumbs Down</th>\n",
       "      <th>Thumbs Up</th>\n",
       "      <th>Upgrade</th>\n",
       "    </tr>\n",
       "  </thead>\n",
       "  <tbody>\n",
       "    <tr>\n",
       "      <th>0</th>\n",
       "      <td>200002</td>\n",
       "      <td>0.632911</td>\n",
       "      <td>0.843882</td>\n",
       "      <td>1.687764</td>\n",
       "      <td>1.054852</td>\n",
       "      <td>0.000000</td>\n",
       "      <td>0.421941</td>\n",
       "      <td>4.219409</td>\n",
       "      <td>1.054852</td>\n",
       "      <td>81.645570</td>\n",
       "      <td>1.476793</td>\n",
       "      <td>0.000000</td>\n",
       "      <td>0.632911</td>\n",
       "      <td>0.000000</td>\n",
       "      <td>0.210970</td>\n",
       "      <td>1.265823</td>\n",
       "      <td>4.430380</td>\n",
       "      <td>0.421941</td>\n",
       "    </tr>\n",
       "    <tr>\n",
       "      <th>1</th>\n",
       "      <td>100010</td>\n",
       "      <td>0.262467</td>\n",
       "      <td>1.049869</td>\n",
       "      <td>1.837270</td>\n",
       "      <td>0.000000</td>\n",
       "      <td>0.000000</td>\n",
       "      <td>0.524934</td>\n",
       "      <td>2.887139</td>\n",
       "      <td>1.312336</td>\n",
       "      <td>72.178478</td>\n",
       "      <td>13.648294</td>\n",
       "      <td>0.000000</td>\n",
       "      <td>0.000000</td>\n",
       "      <td>0.000000</td>\n",
       "      <td>0.000000</td>\n",
       "      <td>1.312336</td>\n",
       "      <td>4.461942</td>\n",
       "      <td>0.524934</td>\n",
       "    </tr>\n",
       "    <tr>\n",
       "      <th>2</th>\n",
       "      <td>125</td>\n",
       "      <td>0.000000</td>\n",
       "      <td>0.000000</td>\n",
       "      <td>0.000000</td>\n",
       "      <td>0.000000</td>\n",
       "      <td>0.000000</td>\n",
       "      <td>0.000000</td>\n",
       "      <td>0.000000</td>\n",
       "      <td>0.000000</td>\n",
       "      <td>88.888889</td>\n",
       "      <td>11.111111</td>\n",
       "      <td>0.000000</td>\n",
       "      <td>0.000000</td>\n",
       "      <td>0.000000</td>\n",
       "      <td>0.000000</td>\n",
       "      <td>0.000000</td>\n",
       "      <td>0.000000</td>\n",
       "      <td>0.000000</td>\n",
       "    </tr>\n",
       "    <tr>\n",
       "      <th>3</th>\n",
       "      <td>51</td>\n",
       "      <td>0.081235</td>\n",
       "      <td>1.137287</td>\n",
       "      <td>2.112104</td>\n",
       "      <td>0.934200</td>\n",
       "      <td>0.040617</td>\n",
       "      <td>0.487409</td>\n",
       "      <td>3.046304</td>\n",
       "      <td>0.974817</td>\n",
       "      <td>85.743298</td>\n",
       "      <td>0.000000</td>\n",
       "      <td>0.040617</td>\n",
       "      <td>0.487409</td>\n",
       "      <td>0.000000</td>\n",
       "      <td>0.000000</td>\n",
       "      <td>0.852965</td>\n",
       "      <td>4.061738</td>\n",
       "      <td>0.000000</td>\n",
       "    </tr>\n",
       "    <tr>\n",
       "      <th>4</th>\n",
       "      <td>124</td>\n",
       "      <td>0.145078</td>\n",
       "      <td>1.533679</td>\n",
       "      <td>2.445596</td>\n",
       "      <td>0.849741</td>\n",
       "      <td>0.124352</td>\n",
       "      <td>0.476684</td>\n",
       "      <td>3.647668</td>\n",
       "      <td>1.222798</td>\n",
       "      <td>84.538860</td>\n",
       "      <td>0.082902</td>\n",
       "      <td>0.124352</td>\n",
       "      <td>0.414508</td>\n",
       "      <td>0.000000</td>\n",
       "      <td>0.000000</td>\n",
       "      <td>0.849741</td>\n",
       "      <td>3.544041</td>\n",
       "      <td>0.000000</td>\n",
       "    </tr>\n",
       "    <tr>\n",
       "      <th>5</th>\n",
       "      <td>7</td>\n",
       "      <td>0.000000</td>\n",
       "      <td>0.497512</td>\n",
       "      <td>2.487562</td>\n",
       "      <td>0.000000</td>\n",
       "      <td>0.497512</td>\n",
       "      <td>0.497512</td>\n",
       "      <td>4.975124</td>\n",
       "      <td>1.492537</td>\n",
       "      <td>74.626866</td>\n",
       "      <td>7.960199</td>\n",
       "      <td>0.497512</td>\n",
       "      <td>1.492537</td>\n",
       "      <td>0.000000</td>\n",
       "      <td>0.000000</td>\n",
       "      <td>0.497512</td>\n",
       "      <td>3.482587</td>\n",
       "      <td>0.995025</td>\n",
       "    </tr>\n",
       "    <tr>\n",
       "      <th>6</th>\n",
       "      <td>54</td>\n",
       "      <td>0.145560</td>\n",
       "      <td>0.960699</td>\n",
       "      <td>2.096070</td>\n",
       "      <td>1.135371</td>\n",
       "      <td>0.029112</td>\n",
       "      <td>0.494905</td>\n",
       "      <td>3.755459</td>\n",
       "      <td>1.048035</td>\n",
       "      <td>82.707424</td>\n",
       "      <td>1.368268</td>\n",
       "      <td>0.087336</td>\n",
       "      <td>0.494905</td>\n",
       "      <td>0.029112</td>\n",
       "      <td>0.029112</td>\n",
       "      <td>0.844250</td>\n",
       "      <td>4.745269</td>\n",
       "      <td>0.029112</td>\n",
       "    </tr>\n",
       "    <tr>\n",
       "      <th>7</th>\n",
       "      <td>15</td>\n",
       "      <td>0.087796</td>\n",
       "      <td>1.360843</td>\n",
       "      <td>2.589991</td>\n",
       "      <td>1.229148</td>\n",
       "      <td>0.087796</td>\n",
       "      <td>0.351185</td>\n",
       "      <td>4.082529</td>\n",
       "      <td>1.185250</td>\n",
       "      <td>84.021071</td>\n",
       "      <td>0.043898</td>\n",
       "      <td>0.087796</td>\n",
       "      <td>0.702371</td>\n",
       "      <td>0.000000</td>\n",
       "      <td>0.000000</td>\n",
       "      <td>0.614574</td>\n",
       "      <td>3.555751</td>\n",
       "      <td>0.000000</td>\n",
       "    </tr>\n",
       "    <tr>\n",
       "      <th>8</th>\n",
       "      <td>155</td>\n",
       "      <td>0.199601</td>\n",
       "      <td>1.097804</td>\n",
       "      <td>2.395210</td>\n",
       "      <td>1.197605</td>\n",
       "      <td>0.299401</td>\n",
       "      <td>0.898204</td>\n",
       "      <td>2.994012</td>\n",
       "      <td>1.397206</td>\n",
       "      <td>81.836327</td>\n",
       "      <td>0.798403</td>\n",
       "      <td>0.000000</td>\n",
       "      <td>0.499002</td>\n",
       "      <td>0.000000</td>\n",
       "      <td>0.099800</td>\n",
       "      <td>0.299401</td>\n",
       "      <td>5.788423</td>\n",
       "      <td>0.199601</td>\n",
       "    </tr>\n",
       "    <tr>\n",
       "      <th>9</th>\n",
       "      <td>132</td>\n",
       "      <td>0.173611</td>\n",
       "      <td>1.779514</td>\n",
       "      <td>1.649306</td>\n",
       "      <td>0.824653</td>\n",
       "      <td>0.130208</td>\n",
       "      <td>0.694444</td>\n",
       "      <td>3.602431</td>\n",
       "      <td>1.475694</td>\n",
       "      <td>83.680556</td>\n",
       "      <td>0.086806</td>\n",
       "      <td>0.173611</td>\n",
       "      <td>0.737847</td>\n",
       "      <td>0.000000</td>\n",
       "      <td>0.043403</td>\n",
       "      <td>0.737847</td>\n",
       "      <td>4.166667</td>\n",
       "      <td>0.043403</td>\n",
       "    </tr>\n",
       "  </tbody>\n",
       "</table>\n",
       "</div>"
      ],
      "text/plain": [
       "   userId     About  Add Friend  Add to Playlist  Downgrade     Error  \\\n",
       "0  200002  0.632911    0.843882         1.687764   1.054852  0.000000   \n",
       "1  100010  0.262467    1.049869         1.837270   0.000000  0.000000   \n",
       "2     125  0.000000    0.000000         0.000000   0.000000  0.000000   \n",
       "3      51  0.081235    1.137287         2.112104   0.934200  0.040617   \n",
       "4     124  0.145078    1.533679         2.445596   0.849741  0.124352   \n",
       "5       7  0.000000    0.497512         2.487562   0.000000  0.497512   \n",
       "6      54  0.145560    0.960699         2.096070   1.135371  0.029112   \n",
       "7      15  0.087796    1.360843         2.589991   1.229148  0.087796   \n",
       "8     155  0.199601    1.097804         2.395210   1.197605  0.299401   \n",
       "9     132  0.173611    1.779514         1.649306   0.824653  0.130208   \n",
       "\n",
       "       Help      Home    Logout   NextSong  Roll Advert  Save Settings  \\\n",
       "0  0.421941  4.219409  1.054852  81.645570     1.476793       0.000000   \n",
       "1  0.524934  2.887139  1.312336  72.178478    13.648294       0.000000   \n",
       "2  0.000000  0.000000  0.000000  88.888889    11.111111       0.000000   \n",
       "3  0.487409  3.046304  0.974817  85.743298     0.000000       0.040617   \n",
       "4  0.476684  3.647668  1.222798  84.538860     0.082902       0.124352   \n",
       "5  0.497512  4.975124  1.492537  74.626866     7.960199       0.497512   \n",
       "6  0.494905  3.755459  1.048035  82.707424     1.368268       0.087336   \n",
       "7  0.351185  4.082529  1.185250  84.021071     0.043898       0.087796   \n",
       "8  0.898204  2.994012  1.397206  81.836327     0.798403       0.000000   \n",
       "9  0.694444  3.602431  1.475694  83.680556     0.086806       0.173611   \n",
       "\n",
       "   Settings  Submit Downgrade  Submit Upgrade  Thumbs Down  Thumbs Up  \\\n",
       "0  0.632911          0.000000        0.210970     1.265823   4.430380   \n",
       "1  0.000000          0.000000        0.000000     1.312336   4.461942   \n",
       "2  0.000000          0.000000        0.000000     0.000000   0.000000   \n",
       "3  0.487409          0.000000        0.000000     0.852965   4.061738   \n",
       "4  0.414508          0.000000        0.000000     0.849741   3.544041   \n",
       "5  1.492537          0.000000        0.000000     0.497512   3.482587   \n",
       "6  0.494905          0.029112        0.029112     0.844250   4.745269   \n",
       "7  0.702371          0.000000        0.000000     0.614574   3.555751   \n",
       "8  0.499002          0.000000        0.099800     0.299401   5.788423   \n",
       "9  0.737847          0.000000        0.043403     0.737847   4.166667   \n",
       "\n",
       "    Upgrade  \n",
       "0  0.421941  \n",
       "1  0.524934  \n",
       "2  0.000000  \n",
       "3  0.000000  \n",
       "4  0.000000  \n",
       "5  0.995025  \n",
       "6  0.029112  \n",
       "7  0.000000  \n",
       "8  0.199601  \n",
       "9  0.043403  "
      ]
     },
     "execution_count": 116,
     "metadata": {},
     "output_type": "execute_result"
    }
   ],
   "source": [
    "# The distribution of pages per user (FILLING NAN with 0)\n",
    "user_page_distribution = df.groupby('userId').pivot('page').count().na.fill(0) #.toPandas().head(30)\n",
    "\n",
    "# Drop Cancel\tCancellation Confirmation columns\n",
    "user_page_distribution = user_page_distribution.drop(*['Cancel','Cancellation Confirmation'])\n",
    "\n",
    "# Normalizing each row to sum to 1\n",
    "\n",
    "# the columns to be summed\n",
    "pages_cols = user_page_distribution.columns[1:]\n",
    "\n",
    "# Add a total column\n",
    "new_df = user_page_distribution.withColumn('total', sum(user_page_distribution[col] for col in pages_cols))\n",
    "\n",
    "# Apply normalization per column\n",
    "for col in pages_cols:\n",
    "    new_df = new_df.withColumn(f'norm_{col}', new_df[col] / new_df['total'] * 100.)\n",
    "    \n",
    "# Remove the total column    \n",
    "new_df = new_df.drop('total')\n",
    "\n",
    "# Remove the original columns\n",
    "new_df = new_df.drop(*pages_cols)\n",
    "\n",
    "# Rename the normalized columns back\n",
    "oldColumns = new_df.columns\n",
    "newColumns = ['userId'] + pages_cols\n",
    "user_page_distribution = reduce(lambda new_df, idx: new_df.withColumnRenamed(oldColumns[idx], newColumns[idx]), range(len(oldColumns)), new_df)\n",
    "\n",
    "# Freeup memory\n",
    "new_df=None\n",
    "\n",
    "user_page_distribution.toPandas().head(10)"
   ]
  },
  {
   "cell_type": "markdown",
   "metadata": {},
   "source": [
    "### No. of songs per session"
   ]
  },
  {
   "cell_type": "code",
   "execution_count": 117,
   "metadata": {},
   "outputs": [
    {
     "name": "stdout",
     "output_type": "stream",
     "text": [
      "+------+------------------+------------------+\n",
      "|userId|        mean_songs|       stdev_songs|\n",
      "+------+------------------+------------------+\n",
      "|100010|39.285714285714285| 22.96166577663945|\n",
      "|200002|              64.5|51.309843110264914|\n",
      "|   125|               8.0|               0.0|\n",
      "+------+------------------+------------------+\n",
      "only showing top 3 rows\n",
      "\n"
     ]
    }
   ],
   "source": [
    "# number of changing songs\n",
    "song_user_df = df.filter(df.page == 'NextSong').groupBy(\n",
    "                        'userId', 'sessionId').count()\n",
    "song_user_df = song_user_df.groupBy('userId').agg(\n",
    "                        sF.avg('count').alias('mean_songs'), \n",
    "                        sF.stddev('count').alias('stdev_songs'))\n",
    "song_user_df = song_user_df.na.fill(0)\n",
    "song_user_df.show(3)"
   ]
  },
  {
   "cell_type": "markdown",
   "metadata": {},
   "source": [
    "### No. of artists the user fan"
   ]
  },
  {
   "cell_type": "code",
   "execution_count": 118,
   "metadata": {},
   "outputs": [
    {
     "name": "stdout",
     "output_type": "stream",
     "text": [
      "+------+----------+\n",
      "|userId|num_aritst|\n",
      "+------+----------+\n",
      "|100010|       253|\n",
      "|200002|       340|\n",
      "|   125|         9|\n",
      "+------+----------+\n",
      "only showing top 3 rows\n",
      "\n"
     ]
    }
   ],
   "source": [
    "# Number of artists the user fans\n",
    "artists_user_fans = df.select('userId', 'artist').dropDuplicates().groupBy('userId').count().withColumnRenamed(\"count\", \"num_aritst\")\n",
    "artists_user_fans.show(3)"
   ]
  },
  {
   "cell_type": "markdown",
   "metadata": {},
   "source": [
    "### Session duration"
   ]
  },
  {
   "cell_type": "code",
   "execution_count": 119,
   "metadata": {},
   "outputs": [
    {
     "name": "stdout",
     "output_type": "stream",
     "text": [
      "+------+---------+------------------+\n",
      "|userId|sessionId|     session_hours|\n",
      "+------+---------+------------------+\n",
      "|   101|      635|55.000277777777775|\n",
      "|   110|     1776|1.3908333333333334|\n",
      "|   120|      627|15.855555555555556|\n",
      "+------+---------+------------------+\n",
      "only showing top 3 rows\n",
      "\n"
     ]
    }
   ],
   "source": [
    "#session duration\n",
    "session_end = df.groupBy('userId', 'sessionId').max('ts').withColumnRenamed(\n",
    "                                                            'max(ts)', 'end')\n",
    "session_start = df.groupBy('userId', 'sessionId').min('ts').withColumnRenamed(\n",
    "                                                            'min(ts)', 'start')\n",
    "session_df = session_start.join(session_end,['userId', 'sessionId'])\n",
    "ticks_per_hours = 1000 * 60 * 60\n",
    "session_df = session_df.select('userId', 'sessionId', ((\n",
    "    session_df.end-session_df.start)/ticks_per_hours).alias('session_hours'))\n",
    "session_df.show(3)"
   ]
  },
  {
   "cell_type": "code",
   "execution_count": 120,
   "metadata": {},
   "outputs": [
    {
     "name": "stdout",
     "output_type": "stream",
     "text": [
      "+------+-------------------+------------------+\n",
      "|userId|     mean_session_h|   stdev_session_h|\n",
      "+------+-------------------+------------------+\n",
      "|100010|  2.574722222222223|1.5888758093219746|\n",
      "|200002|               4.44| 3.615756029749058|\n",
      "|   125|0.49277777777777776|               0.0|\n",
      "+------+-------------------+------------------+\n",
      "only showing top 3 rows\n",
      "\n"
     ]
    }
   ],
   "source": [
    "#mean and sd of session duration\n",
    "session_user_df = session_df.groupBy('userId').agg(\n",
    "                        sF.avg('session_hours').alias('mean_session_h'), \n",
    "                        sF.stddev('session_hours').alias('stdev_session_h'))\n",
    "# Fill NaN with 0\n",
    "session_user_df = session_user_df.na.fill(0)\n",
    "session_user_df.show(3)"
   ]
  },
  {
   "cell_type": "markdown",
   "metadata": {},
   "source": [
    "### Session count per user"
   ]
  },
  {
   "cell_type": "code",
   "execution_count": 121,
   "metadata": {},
   "outputs": [
    {
     "name": "stdout",
     "output_type": "stream",
     "text": [
      "+------+------------+\n",
      "|userId|num_sessions|\n",
      "+------+------------+\n",
      "|100010|           7|\n",
      "|200002|           6|\n",
      "|   125|           1|\n",
      "+------+------------+\n",
      "only showing top 3 rows\n",
      "\n"
     ]
    }
   ],
   "source": [
    "# 2-H Sessions count per user\n",
    "num_sessions_user_df = df.select('userId', 'sessionId').dropDuplicates().groupby('userId').count().withColumnRenamed('count', 'num_sessions')\n",
    "num_sessions_user_df.show(3)"
   ]
  },
  {
   "cell_type": "markdown",
   "metadata": {},
   "source": [
    "### User's subscription age"
   ]
  },
  {
   "cell_type": "code",
   "execution_count": 122,
   "metadata": {},
   "outputs": [
    {
     "name": "stdout",
     "output_type": "stream",
     "text": [
      "+------+-----------------------+\n",
      "|userId|days_total_subscription|\n",
      "+------+-----------------------+\n",
      "|100010|      55.64365740740741|\n",
      "|200002|      70.07462962962963|\n",
      "|   125|      71.31688657407408|\n",
      "|   124|     131.55591435185184|\n",
      "|    51|     19.455844907407407|\n",
      "+------+-----------------------+\n",
      "only showing top 5 rows\n",
      "\n"
     ]
    }
   ],
   "source": [
    "# 2-I The user's subscription age\n",
    "def days_since_subscription(df, col_name='days_on'):\n",
    "    # timestamp of users registration\n",
    "    reg_ts = df.select('userId', 'registration').dropDuplicates().withColumnRenamed('registration', 'start')\n",
    "    # reg_ts.show(5)\n",
    "    # The maximum timestamp found for the user\n",
    "    end_ts = df.groupBy('userId').max('ts').withColumnRenamed('max(ts)', 'end')\n",
    "    # end_ts.show(5)\n",
    "    # The difference\n",
    "    reg_df = reg_ts.join(end_ts,'userId')\n",
    "    ticks_per_day = 1000 * 60 * 60 * 24 # as the timestamp is in ticks (0.001 seconds)\n",
    "    # Merge in one df\n",
    "    reg_df = reg_df.select('userId', ((reg_df.end-reg_df.start)/ticks_per_day).alias(col_name))\n",
    "    # reg_ts.join(user_max_ts, user_reg_ts.userId == user_max_ts.userId).select(user_reg_ts[\"userId\"], ((user_max_ts[\"max(ts)\"]-user_reg_ts[\"registration\"])/(1000*60*60*24)).alias(\"regDay\"))\n",
    "    return reg_df\n",
    "\n",
    "reg_df = days_since_subscription(df, col_name='days_total_subscription')\n",
    "reg_df.show(5)"
   ]
  },
  {
   "cell_type": "markdown",
   "metadata": {},
   "source": [
    "### Free or Paid song percentages per user"
   ]
  },
  {
   "cell_type": "code",
   "execution_count": 123,
   "metadata": {},
   "outputs": [
    {
     "name": "stdout",
     "output_type": "stream",
     "text": [
      "+------+------------------+-----------------+\n",
      "|userId|      free_percent|     paid_percent|\n",
      "+------+------------------+-----------------+\n",
      "|200002| 22.48062015503876|77.51937984496125|\n",
      "|100010|             100.0|              0.0|\n",
      "|   125|             100.0|              0.0|\n",
      "|     7|             100.0|              0.0|\n",
      "|   124|               0.0|            100.0|\n",
      "|    51|               0.0|            100.0|\n",
      "|    54|15.452305526223162|84.54769447377683|\n",
      "|    15|               0.0|            100.0|\n",
      "|   155|12.317073170731707| 87.6829268292683|\n",
      "|   132|1.4522821576763485|98.54771784232366|\n",
      "+------+------------------+-----------------+\n",
      "only showing top 10 rows\n",
      "\n"
     ]
    }
   ],
   "source": [
    "paid_free_df = df.filter(df.page=='NextSong').groupBy('userId').pivot('level').count()\n",
    "paid_free_df = paid_free_df.na.fill(0)\n",
    "active_cols = paid_free_df.columns[1:]\n",
    "paid_free_df = paid_free_df.withColumn('total', \n",
    "                                       sum(paid_free_df[col] for col in active_cols))\n",
    "for col in active_cols:\n",
    "    paid_free_df = paid_free_df.withColumn(f'{col}_percent', \n",
    "                                           paid_free_df[col] / paid_free_df.total * 100)\n",
    "active_cols.append('total')    \n",
    "paid_free_df = paid_free_df.drop(*active_cols)\n",
    "paid_free_df.show(10)"
   ]
  },
  {
   "cell_type": "markdown",
   "metadata": {},
   "source": [
    "### Merging all the features"
   ]
  },
  {
   "cell_type": "code",
   "execution_count": 124,
   "metadata": {},
   "outputs": [],
   "source": [
    "# the features to collect\n",
    "user_features = [gender_df, paid_free_df, song_length, \n",
    "                   user_page_distribution, song_user_df, artists_user_fans, \n",
    "                   session_user_df, num_sessions_user_df, reg_df]\n",
    "user_features_names = ['gender_df', 'paid_free_df', 'song_length', \n",
    "                   'user_page_distribution', 'song_user_df', 'artists_user_fans', \n",
    "                   'session_user_df', 'num_sessions_user_df', 'reg_df']"
   ]
  },
  {
   "cell_type": "code",
   "execution_count": 125,
   "metadata": {},
   "outputs": [
    {
     "name": "stdout",
     "output_type": "stream",
     "text": [
      "Preparing features of the gender_df dataframe; the new frame's dimensions is: 225 * 3\n",
      "Preparing features of the paid_free_df dataframe; the new frame's dimensions is: 225 * 5\n",
      "Preparing features of the song_length dataframe; the new frame's dimensions is: 225 * 7\n",
      "Preparing features of the user_page_distribution dataframe; the new frame's dimensions is: 225 * 24\n",
      "Preparing features of the song_user_df dataframe; the new frame's dimensions is: 225 * 26\n",
      "Preparing features of the artists_user_fans dataframe; the new frame's dimensions is: 225 * 27\n",
      "Preparing features of the session_user_df dataframe; the new frame's dimensions is: 225 * 29\n",
      "Preparing features of the num_sessions_user_df dataframe; the new frame's dimensions is: 225 * 30\n",
      "Preparing features of the reg_df dataframe; the new frame's dimensions is: 225 * 31\n"
     ]
    }
   ],
   "source": [
    "# Initialize the final_df\n",
    "final_df = churn_users\n",
    "\n",
    "def join_features(base, new):\n",
    "    df_to_join = new#.withColumnRenamed('userId', 't_userId')\n",
    "    base = base.join(df_to_join, 'userId', how='inner')#.drop('t_userId')#.show(10)\n",
    "    return base.dropDuplicates()\n",
    "\n",
    "for i, feature in enumerate(user_features):\n",
    "    print(f'Preparing features of the {user_features_names[i]} dataframe', end='; ')\n",
    "    final_df = join_features(final_df, feature)\n",
    "    print (f\"the new frame's dimensions is: {final_df.count()} * {len(final_df.columns)}\")\n",
    "final_df = final_df.orderBy('userId', ascending=True)"
   ]
  },
  {
   "cell_type": "code",
   "execution_count": 126,
   "metadata": {},
   "outputs": [
    {
     "name": "stdout",
     "output_type": "stream",
     "text": [
      "root\n",
      " |-- userId: string (nullable = true)\n",
      " |-- churn: long (nullable = true)\n",
      " |-- gender: integer (nullable = true)\n",
      " |-- free_percent: double (nullable = true)\n",
      " |-- paid_percent: double (nullable = true)\n",
      " |-- mean_hours: double (nullable = false)\n",
      " |-- stdev_hours: double (nullable = false)\n",
      " |-- About: double (nullable = true)\n",
      " |-- Add Friend: double (nullable = true)\n",
      " |-- Add to Playlist: double (nullable = true)\n",
      " |-- Downgrade: double (nullable = true)\n",
      " |-- Error: double (nullable = true)\n",
      " |-- Help: double (nullable = true)\n",
      " |-- Home: double (nullable = true)\n",
      " |-- Logout: double (nullable = true)\n",
      " |-- NextSong: double (nullable = true)\n",
      " |-- Roll Advert: double (nullable = true)\n",
      " |-- Save Settings: double (nullable = true)\n",
      " |-- Settings: double (nullable = true)\n",
      " |-- Submit Downgrade: double (nullable = true)\n",
      " |-- Submit Upgrade: double (nullable = true)\n",
      " |-- Thumbs Down: double (nullable = true)\n",
      " |-- Thumbs Up: double (nullable = true)\n",
      " |-- Upgrade: double (nullable = true)\n",
      " |-- mean_songs: double (nullable = false)\n",
      " |-- stdev_songs: double (nullable = false)\n",
      " |-- num_aritst: long (nullable = false)\n",
      " |-- mean_session_h: double (nullable = false)\n",
      " |-- stdev_session_h: double (nullable = false)\n",
      " |-- num_sessions: long (nullable = false)\n",
      " |-- days_total_subscription: double (nullable = true)\n",
      "\n"
     ]
    }
   ],
   "source": [
    "final_df.printSchema()"
   ]
  },
  {
   "cell_type": "code",
   "execution_count": 139,
   "metadata": {},
   "outputs": [],
   "source": [
    "final_df.write.save('cleaned_dataset.CSV', format='csv', header=True)"
   ]
  },
  {
   "cell_type": "code",
   "execution_count": 3,
   "metadata": {},
   "outputs": [],
   "source": [
    "final_df1 = spark.read.csv('cleaned_dataset.CSV', header = True)"
   ]
  },
  {
   "cell_type": "code",
   "execution_count": 4,
   "metadata": {},
   "outputs": [
    {
     "name": "stdout",
     "output_type": "stream",
     "text": [
      "root\n",
      " |-- userId: string (nullable = true)\n",
      " |-- churn: string (nullable = true)\n",
      " |-- gender: string (nullable = true)\n",
      " |-- free_percent: string (nullable = true)\n",
      " |-- paid_percent: string (nullable = true)\n",
      " |-- mean_hours: string (nullable = true)\n",
      " |-- stdev_hours: string (nullable = true)\n",
      " |-- About: string (nullable = true)\n",
      " |-- Add Friend: string (nullable = true)\n",
      " |-- Add to Playlist: string (nullable = true)\n",
      " |-- Downgrade: string (nullable = true)\n",
      " |-- Error: string (nullable = true)\n",
      " |-- Help: string (nullable = true)\n",
      " |-- Home: string (nullable = true)\n",
      " |-- Logout: string (nullable = true)\n",
      " |-- NextSong: string (nullable = true)\n",
      " |-- Roll Advert: string (nullable = true)\n",
      " |-- Save Settings: string (nullable = true)\n",
      " |-- Settings: string (nullable = true)\n",
      " |-- Submit Downgrade: string (nullable = true)\n",
      " |-- Submit Upgrade: string (nullable = true)\n",
      " |-- Thumbs Down: string (nullable = true)\n",
      " |-- Thumbs Up: string (nullable = true)\n",
      " |-- Upgrade: string (nullable = true)\n",
      " |-- mean_songs: string (nullable = true)\n",
      " |-- stdev_songs: string (nullable = true)\n",
      " |-- num_aritst: string (nullable = true)\n",
      " |-- mean_session_h: string (nullable = true)\n",
      " |-- stdev_session_h: string (nullable = true)\n",
      " |-- num_sessions: string (nullable = true)\n",
      " |-- days_total_subscription: string (nullable = true)\n",
      "\n"
     ]
    }
   ],
   "source": [
    "final_df1.printSchema()"
   ]
  },
  {
   "cell_type": "code",
   "execution_count": 5,
   "metadata": {},
   "outputs": [
    {
     "name": "stdout",
     "output_type": "stream",
     "text": [
      "['userId', 'churn', 'gender', 'free_percent', 'paid_percent', 'mean_hours', 'stdev_hours', 'About', 'Add_Friend', 'Add_to_Playlist', 'Downgrade', 'Error', 'Help', 'Home', 'Logout', 'NextSong', 'Roll_Advert', 'Save_Settings', 'Settings', 'Submit_Downgrade', 'Submit_Upgrade', 'Thumbs_Down', 'Thumbs_Up', 'Upgrade', 'mean_songs', 'stdev_songs', 'num_aritst', 'mean_session_h', 'stdev_session_h', 'num_sessions', 'days_total_subscription']\n"
     ]
    }
   ],
   "source": [
    "# Change the column names to strings without spaces\n",
    "for col in final_df1.columns:\n",
    "    final_df1 = final_df1.withColumnRenamed(col, col.replace(' ', '_').replace('.', ''))\n",
    "print(final_df1.columns)"
   ]
  },
  {
   "cell_type": "code",
   "execution_count": 6,
   "metadata": {},
   "outputs": [
    {
     "name": "stdout",
     "output_type": "stream",
     "text": [
      "root\n",
      " |-- userId: integer (nullable = true)\n",
      " |-- churn: integer (nullable = true)\n",
      " |-- gender: integer (nullable = true)\n",
      " |-- free_percent: integer (nullable = true)\n",
      " |-- paid_percent: integer (nullable = true)\n",
      " |-- mean_hours: integer (nullable = true)\n",
      " |-- stdev_hours: integer (nullable = true)\n",
      " |-- About: integer (nullable = true)\n",
      " |-- Add_Friend: integer (nullable = true)\n",
      " |-- Add_to_Playlist: integer (nullable = true)\n",
      " |-- Downgrade: integer (nullable = true)\n",
      " |-- Error: integer (nullable = true)\n",
      " |-- Help: float (nullable = true)\n",
      " |-- Home: float (nullable = true)\n",
      " |-- Logout: float (nullable = true)\n",
      " |-- NextSong: float (nullable = true)\n",
      " |-- Roll_Advert: float (nullable = true)\n",
      " |-- Save_Settings: float (nullable = true)\n",
      " |-- Settings: float (nullable = true)\n",
      " |-- Submit_Downgrade: float (nullable = true)\n",
      " |-- Submit_Upgrade: float (nullable = true)\n",
      " |-- Thumbs_Down: float (nullable = true)\n",
      " |-- Thumbs_Up: float (nullable = true)\n",
      " |-- Upgrade: float (nullable = true)\n",
      " |-- mean_songs: float (nullable = true)\n",
      " |-- stdev_songs: float (nullable = true)\n",
      " |-- num_aritst: float (nullable = true)\n",
      " |-- mean_session_h: float (nullable = true)\n",
      " |-- stdev_session_h: float (nullable = true)\n",
      " |-- num_sessions: float (nullable = true)\n",
      " |-- days_total_subscription: float (nullable = true)\n",
      "\n"
     ]
    }
   ],
   "source": [
    "# Convert all to numbers as the schema shows strings\n",
    "# the first column (userId) would be integer\n",
    "final_df1 = final_df1.withColumn('userId', final_df1.userId.cast(sT.IntegerType()))\n",
    "# All columns from Churn to OS_* should be integer types\n",
    "for col in final_df1.columns[1:12]:\n",
    "    final_df1 = final_df1.withColumn(col, final_df1[col].cast(sT.IntegerType()))\n",
    "# All other columns should be float\n",
    "for col in final_df1.columns[12:]:\n",
    "    final_df1 = final_df1.withColumn(col, final_df1[col].cast(sT.FloatType()))\n",
    "\n",
    "final_df1.printSchema()"
   ]
  },
  {
   "cell_type": "code",
   "execution_count": 7,
   "metadata": {},
   "outputs": [],
   "source": [
    "# Remove  nulls from anywhere replacing them by zeros\n",
    "final_df1 = final_df1.na.fill(0)"
   ]
  },
  {
   "cell_type": "markdown",
   "metadata": {},
   "source": [
    "# Modeling\n",
    "Split the full dataset into train, test, and validation sets. Test out several of the machine learning methods you learned. Evaluate the accuracy of the various models, tuning parameters as necessary. Determine your winning model based on test accuracy and report results on the validation set. Since the churned users are a fairly small subset, I suggest using F1 score as the metric to optimize."
   ]
  },
  {
   "cell_type": "code",
   "execution_count": 8,
   "metadata": {},
   "outputs": [],
   "source": [
    "# The input features are all but the userId and the Churn\n",
    "# The output is Churn only\n",
    "\n",
    "# Define the vector assembler for all input columns\n",
    "features_vector = VectorAssembler(inputCols=final_df1.columns[2:], outputCol='features')\n",
    "\n",
    "# Apply the vectorization on the dataset\n",
    "input_data = features_vector.transform(final_df1)\n",
    "# input_data.show(1)"
   ]
  },
  {
   "cell_type": "code",
   "execution_count": 9,
   "metadata": {},
   "outputs": [],
   "source": [
    "features_scaler = StandardScaler(withMean=True, withStd=True, inputCol='features', outputCol='scaled_features')\n",
    "features_scaler_fit = features_scaler.fit(input_data)\n",
    "scaled_inputs = features_scaler_fit.transform(input_data)"
   ]
  },
  {
   "cell_type": "code",
   "execution_count": 10,
   "metadata": {},
   "outputs": [],
   "source": [
    "# Select the output and input features\n",
    "ml_data = scaled_inputs.select(scaled_inputs.churn.alias('label'), scaled_inputs.scaled_features.alias('features'))"
   ]
  },
  {
   "cell_type": "code",
   "execution_count": 11,
   "metadata": {},
   "outputs": [],
   "source": [
    "# train test split\n",
    "train, rest = ml_data.randomSplit([0.6, 0.4], seed=42)\n",
    "validation, test = rest.randomSplit([0.5, 0.5], seed=42)"
   ]
  },
  {
   "cell_type": "markdown",
   "metadata": {},
   "source": [
    "## Gradient Boost Classifier"
   ]
  },
  {
   "cell_type": "code",
   "execution_count": 133,
   "metadata": {},
   "outputs": [],
   "source": [
    "# initialize classifier\n",
    "gbt = GBTClassifier(maxIter=10,seed=42)\n",
    "\n",
    "# set evaluator\n",
    "f1_evaluator = MulticlassClassificationEvaluator(metricName='f1')\n",
    "\n",
    "# build paramGrid\n",
    "paramGrid = ParamGridBuilder() \\\n",
    "    .build()\n",
    "\n",
    "crossval_gbt = CrossValidator(estimator=gbt,\n",
    "                          estimatorParamMaps=paramGrid,\n",
    "                          evaluator=f1_evaluator,\n",
    "                          numFolds=3)"
   ]
  },
  {
   "cell_type": "code",
   "execution_count": 135,
   "metadata": {},
   "outputs": [
    {
     "data": {
      "text/plain": [
       "[0.7644186054202666]"
      ]
     },
     "execution_count": 135,
     "metadata": {},
     "output_type": "execute_result"
    }
   ],
   "source": [
    "cvModel_gbt = crossval_gbt.fit(train)\n",
    "cvModel_gbt.avgMetrics"
   ]
  },
  {
   "cell_type": "code",
   "execution_count": 137,
   "metadata": {},
   "outputs": [],
   "source": [
    "results_gbt = cvModel_gbt.transform(validation)"
   ]
  },
  {
   "cell_type": "code",
   "execution_count": 138,
   "metadata": {},
   "outputs": [
    {
     "name": "stdout",
     "output_type": "stream",
     "text": [
      "Gradient Boosted Trees Metrics:\n",
      "Accuracy: 0.7142857142857143\n",
      "F-1 Score:0.6714285714285715\n"
     ]
    }
   ],
   "source": [
    "evaluator = MulticlassClassificationEvaluator(predictionCol=\"prediction\")\n",
    "print('Gradient Boosted Trees Metrics:')\n",
    "print('Accuracy: {}'.format(evaluator.evaluate(results_gbt, {evaluator.metricName: \"accuracy\"})))\n",
    "print('F-1 Score:{}'.format(evaluator.evaluate(results_gbt, {evaluator.metricName: \"f1\"})))"
   ]
  },
  {
   "cell_type": "markdown",
   "metadata": {},
   "source": [
    "## Logistic Regression"
   ]
  },
  {
   "cell_type": "code",
   "execution_count": 12,
   "metadata": {},
   "outputs": [],
   "source": [
    "# initialize classifier\n",
    "lr = LogisticRegression(maxIter=10)\n",
    "\n",
    "# set evaluator\n",
    "f1_evaluator = MulticlassClassificationEvaluator(metricName='f1')\n",
    "\n",
    "# build paramGrid\n",
    "paramGrid = ParamGridBuilder() \\\n",
    "    .build()\n",
    "\n",
    "crossval_lr = CrossValidator(estimator=lr,\n",
    "                          evaluator=f1_evaluator, \n",
    "                          estimatorParamMaps=paramGrid,\n",
    "                          numFolds=3)"
   ]
  },
  {
   "cell_type": "code",
   "execution_count": 13,
   "metadata": {},
   "outputs": [
    {
     "data": {
      "text/plain": [
       "[0.6815005292653724]"
      ]
     },
     "execution_count": 13,
     "metadata": {},
     "output_type": "execute_result"
    }
   ],
   "source": [
    "cvModel_lr = crossval_lr.fit(train)\n",
    "cvModel_lr.avgMetrics"
   ]
  },
  {
   "cell_type": "code",
   "execution_count": 14,
   "metadata": {},
   "outputs": [],
   "source": [
    "results_lr = cvModel_lr.transform(validation)"
   ]
  },
  {
   "cell_type": "code",
   "execution_count": 15,
   "metadata": {},
   "outputs": [
    {
     "name": "stdout",
     "output_type": "stream",
     "text": [
      "Logistic Regression Metrics:\n",
      "Accuracy: 0.7916666666666666\n",
      "F-1 Score:0.7423054587688733\n"
     ]
    }
   ],
   "source": [
    "evaluator = MulticlassClassificationEvaluator(predictionCol=\"prediction\")\n",
    "print('Logistic Regression Metrics:')\n",
    "print('Accuracy: {}'.format(evaluator.evaluate(results_lr, {evaluator.metricName: \"accuracy\"})))\n",
    "print('F-1 Score:{}'.format(evaluator.evaluate(results_lr, {evaluator.metricName: \"f1\"})))"
   ]
  },
  {
   "cell_type": "markdown",
   "metadata": {},
   "source": [
    "## Support Vector Machine"
   ]
  },
  {
   "cell_type": "code",
   "execution_count": 16,
   "metadata": {},
   "outputs": [],
   "source": [
    "# initialize classifier\n",
    "svm = LinearSVC(maxIter=10)\n",
    "\n",
    "# set evaluator\n",
    "f1_evaluator = MulticlassClassificationEvaluator(metricName='f1')\n",
    "\n",
    "# build paramGrid\n",
    "paramGrid = ParamGridBuilder() \\\n",
    "    .build()\n",
    "\n",
    "crossval_svm = CrossValidator(estimator=svm,\n",
    "                          estimatorParamMaps=paramGrid,\n",
    "                          evaluator=f1_evaluator,\n",
    "                          numFolds=3)"
   ]
  },
  {
   "cell_type": "code",
   "execution_count": 17,
   "metadata": {},
   "outputs": [
    {
     "data": {
      "text/plain": [
       "[0.6914987736234883]"
      ]
     },
     "execution_count": 17,
     "metadata": {},
     "output_type": "execute_result"
    }
   ],
   "source": [
    "cvModel_svm = crossval_svm.fit(train)\n",
    "cvModel_svm.avgMetrics"
   ]
  },
  {
   "cell_type": "code",
   "execution_count": 18,
   "metadata": {},
   "outputs": [],
   "source": [
    "results_svm = cvModel_svm.transform(validation)"
   ]
  },
  {
   "cell_type": "code",
   "execution_count": 19,
   "metadata": {},
   "outputs": [
    {
     "name": "stdout",
     "output_type": "stream",
     "text": [
      "SVM Metrics:\n",
      "Accuracy: 0.75\n",
      "F-1 Score:0.6607142857142857\n"
     ]
    }
   ],
   "source": [
    "evaluator = MulticlassClassificationEvaluator(predictionCol=\"prediction\")\n",
    "print('SVM Metrics:')\n",
    "print('Accuracy: {}'.format(evaluator.evaluate(results_svm, {evaluator.metricName: \"accuracy\"})))\n",
    "print('F-1 Score:{}'.format(evaluator.evaluate(results_svm, {evaluator.metricName: \"f1\"})))"
   ]
  },
  {
   "cell_type": "markdown",
   "metadata": {},
   "source": [
    "## Random Forest Classifier"
   ]
  },
  {
   "cell_type": "code",
   "execution_count": 33,
   "metadata": {},
   "outputs": [],
   "source": [
    "# initialize classifier\n",
    "rf = RandomForestClassifier()\n",
    "\n",
    "# set evaluator\n",
    "f1_evaluator = MulticlassClassificationEvaluator(metricName='f1')\n",
    "\n",
    "# build paramGrid\n",
    "paramGrid = ParamGridBuilder() \\\n",
    "    .build()\n",
    "\n",
    "crossval_rf = CrossValidator(estimator=rf,\n",
    "                          estimatorParamMaps=paramGrid,\n",
    "                          evaluator=f1_evaluator,\n",
    "                          numFolds=3)"
   ]
  },
  {
   "cell_type": "code",
   "execution_count": 34,
   "metadata": {},
   "outputs": [
    {
     "data": {
      "text/plain": [
       "[0.7016250430518266]"
      ]
     },
     "execution_count": 34,
     "metadata": {},
     "output_type": "execute_result"
    }
   ],
   "source": [
    "cvModel_rf = crossval_rf.fit(train)\n",
    "cvModel_rf.avgMetrics"
   ]
  },
  {
   "cell_type": "code",
   "execution_count": 35,
   "metadata": {},
   "outputs": [],
   "source": [
    "results_rf = cvModel_rf.transform(validation)"
   ]
  },
  {
   "cell_type": "code",
   "execution_count": 36,
   "metadata": {},
   "outputs": [
    {
     "name": "stdout",
     "output_type": "stream",
     "text": [
      "Random Forest Metrics:\n",
      "Accuracy: 0.75\n",
      "F-1 Score:0.6607142857142857\n"
     ]
    }
   ],
   "source": [
    "evaluator = MulticlassClassificationEvaluator(predictionCol=\"prediction\")\n",
    "print('Random Forest Metrics:')\n",
    "print('Accuracy: {}'.format(evaluator.evaluate(results_rf, {evaluator.metricName: \"accuracy\"})))\n",
    "print('F-1 Score:{}'.format(evaluator.evaluate(results_rf, {evaluator.metricName: \"f1\"})))"
   ]
  },
  {
   "cell_type": "markdown",
   "metadata": {},
   "source": [
    "From the above results we see that:\n",
    "1. Gradient Boost Classifier shows an accuracy of 0.71 and F-1 Score of 0.61\n",
    "2. Logistic Regression shows an accuracy of 0.79 and F-1 Score of 0.74\n",
    "3. Support VectorMachine shows an accuracy of 0.75 and F-1 Score of 0.66\n",
    "4. Random Forest shows an accuracy of 0.75 and F-1 Score of 0.66\n",
    "\n",
    "Here we see Logistic Regression model out-performs other models in terms of accuracy and F-1 Score. So, we were selecting Logistic Regression as our best model. We will now use Grid-Search and Cross-validation techniques to fine tune our hyper parameters so that we can improve the performance of our model."
   ]
  },
  {
   "cell_type": "markdown",
   "metadata": {},
   "source": [
    "# Grid Search and Cross Validation"
   ]
  },
  {
   "cell_type": "code",
   "execution_count": 24,
   "metadata": {},
   "outputs": [],
   "source": [
    "# initialize classifier\n",
    "best = LogisticRegression(maxIter=10)\n",
    "\n",
    "# set evaluator\n",
    "f1_evaluator = MulticlassClassificationEvaluator(metricName='f1')\n",
    "\n",
    "# build paramGrid\n",
    "paramGrid = ParamGridBuilder() \\\n",
    "    .addGrid(best.regParam,[0.01, 0.1]) \\\n",
    "    .addGrid(best.elasticNetParam,[0.0, 0.5]) \\\n",
    "    .addGrid(best.aggregationDepth,[2, 5]) \\\n",
    "    .build()\n",
    "\n",
    "crossval_best = CrossValidator(estimator=best,\n",
    "                          evaluator=f1_evaluator, \n",
    "                          estimatorParamMaps=paramGrid,\n",
    "                          numFolds=3)"
   ]
  },
  {
   "cell_type": "code",
   "execution_count": 25,
   "metadata": {},
   "outputs": [
    {
     "data": {
      "text/plain": [
       "[0.6983459578265585,\n",
       " 0.6983459578265585,\n",
       " 0.7293653124660582,\n",
       " 0.7293653124660582,\n",
       " 0.6893174252212928,\n",
       " 0.6893174252212928,\n",
       " 0.6914761387852751,\n",
       " 0.6914761387852751]"
      ]
     },
     "execution_count": 25,
     "metadata": {},
     "output_type": "execute_result"
    }
   ],
   "source": [
    "cvModel_best =crossval_best.fit(train)\n",
    "cvModel_best.avgMetrics"
   ]
  },
  {
   "cell_type": "code",
   "execution_count": 26,
   "metadata": {},
   "outputs": [],
   "source": [
    "results_best = cvModel_best.transform(validation)"
   ]
  },
  {
   "cell_type": "code",
   "execution_count": 27,
   "metadata": {},
   "outputs": [
    {
     "name": "stdout",
     "output_type": "stream",
     "text": [
      "Best Model: Logistic Regression Metrics:\n",
      "Accuracy: 0.8125\n",
      "F-1 Score:0.7768518518518519\n"
     ]
    }
   ],
   "source": [
    "evaluator = MulticlassClassificationEvaluator(predictionCol=\"prediction\")\n",
    "print('Best Model: Logistic Regression Metrics:')\n",
    "print('Accuracy: {}'.format(evaluator.evaluate(results_best, {evaluator.metricName: \"accuracy\"})))\n",
    "print('F-1 Score:{}'.format(evaluator.evaluate(results_best, {evaluator.metricName: \"f1\"})))"
   ]
  },
  {
   "cell_type": "markdown",
   "metadata": {},
   "source": [
    "From the Grid-Search, we obtained an accuracy of 0.81 and F-1 Score of 0.78, which is much higher than our previous models. Now, it's important to identify the important variables which helps in determining the churn"
   ]
  },
  {
   "cell_type": "code",
   "execution_count": 30,
   "metadata": {},
   "outputs": [],
   "source": [
    "def draw_features_contribution(fitted_model, x_labels, scale_to='full_range'):\n",
    "    '''\n",
    "    Draws a bar chart of features vs churn %\n",
    "    fitted_model: the fitted model\n",
    "    scale_to: the values will be scated to:\n",
    "           'full_range' where the full absolute values are summed to 100.\n",
    "           'maximum_range' where the maximum absolute extremes are scalled to 100.\n",
    "           'none' the values are shown as is.\n",
    "    '''\n",
    "    cmx = fitted_model.bestModel.coefficientMatrix\n",
    "    cmv = cmx.values\n",
    "    # cmv.shape, len(final_df.columns[2:])\n",
    "    \n",
    "    # Define positive and negative values\n",
    "    positives_v = np.array([x if x>=0 else 0 for x in cmv])\n",
    "    negatives_v = np.array([x if x<=0 else 0 for x in cmv])    \n",
    "    \n",
    "    # Drawing by scalling the maximum range to  100\n",
    "    if scale_to == 'full_range':\n",
    "        rang = positives_v.sum()+ abs(negatives_v).sum()\n",
    "    elif scale_to == 'maximum_range':\n",
    "        rang = positives_v.max()+ abs(negatives_v).max()\n",
    "    else:\n",
    "        rang = 1.\n",
    "        \n",
    "    positives_v /= rang\n",
    "    negatives_v /= rang\n",
    "    positives_v *= 100.\n",
    "    negatives_v *= 100.\n",
    "    fig, ax = plt.subplots(figsize=(16, 9))\n",
    "    ax.bar(x_labels, positives_v,color='r')\n",
    "    ax.bar(x_labels, negatives_v, color='g')\n",
    "    ax.set_xlabel('Features')\n",
    "    ax.set_ylabel('The user is most likely to churn (%)')\n",
    "    ax.set_title('Contribution of each feature to the churn decission')\n",
    "    ax.set_xticklabels(labels = final_df1.columns[2:], rotation='vertical');"
   ]
  },
  {
   "cell_type": "code",
   "execution_count": 37,
   "metadata": {},
   "outputs": [
    {
     "data": {
      "image/png": "[encoded data removed]",
      "text/plain": [
       "<matplotlib.figure.Figure at 0x7f21e47dc0f0>"
      ]
     },
     "metadata": {
      "needs_background": "light"
     },
     "output_type": "display_data"
    }
   ],
   "source": [
    "draw_features_contribution(cvModel_best, x_labels=final_df1.columns[2:])"
   ]
  },
  {
   "cell_type": "markdown",
   "metadata": {},
   "source": [
    "Here we see that gender, add_friend, error, home, roll_advert, settings, mean_session_hr are key important features in determining churn. \n",
    "\n",
    "In the descriptive stats, we seen that there is a relationship between subscription status and gender, add friend identifies one who is more interested will definitely recommend to other users. Less the error better the user experience, better the home page better the experience. Settings also do play an important role in user experience. More time a user spends, better the experience."
   ]
  },
  {
   "cell_type": "markdown",
   "metadata": {},
   "source": [
    "## Conclusion\n",
    "In this project, we aimed to predict the churn of customer. The customer dataset is huge (12 GB) so we used only a subset of the dataset, Big Data Tool Spark is used to deal with such a huge dataset. In the data exploration step, we removed duplicates in userid and missing userid. We also looked into the distribution of Subscription status across gender and payment status. In Feature Engineering we created derived fields like Average file length per session, Session duration, Session count, the total subscription days, number of thumbs-up, number of thumbs-down, number of friend invitations, number of listened-to files per session. We subsetted the data with 60% training and rest 40% into two equal parts: crossvalidation and test. We used Gradient Boost Classifier, Logistic Regression, Support Vector Machine and RandomForest to predict the churn of customer. Logistic Regression out-performed other models in terms of accuracy and F1-Score. So, we used Grid Search along with Gradient Descent to fine tune the hyper-parameters and obtained  an accuracy of 0.81 and F1-Score of 0.78. We also identified the variable of importance from the model like gender, add_friend, error, home, roll_advert, settings, mean_session_hr so that Sparkify can pay more attention to these features. Thus we were successful in predicting churn of customers."
   ]
  },
  {
   "cell_type": "markdown",
   "metadata": {},
   "source": [
    "## Next Steps\n",
    "1. Working with the full 12GB dataset\n",
    "2. Need to incorporate some additional features like platform the user is using (like Android/ iOS)\n",
    "3. Trying with different combinations of hyper-parameters in the model"
   ]
  },
  {
   "cell_type": "markdown",
   "metadata": {},
   "source": [
    "# Final Steps\n",
    "Clean up your code, adding comments and renaming variables to make the code easier to read and maintain. Refer to the Spark Project Overview page and Data Scientist Capstone Project Rubric to make sure you are including all components of the capstone project and meet all expectations. Remember, this includes thorough documentation in a README file in a Github repository, as well as a web app or blog post."
   ]
  }
 ],
 "metadata": {
  "kernelspec": {
   "display_name": "Python 3",
   "language": "python",
   "name": "python3"
  },
  "language_info": {
   "codemirror_mode": {
    "name": "ipython",
    "version": 3
   },
   "file_extension": ".py",
   "mimetype": "text/x-python",
   "name": "python",
   "nbconvert_exporter": "python",
   "pygments_lexer": "ipython3",
   "version": "3.6.3"
  }
 },
 "nbformat": 4,
 "nbformat_minor": 2
}
